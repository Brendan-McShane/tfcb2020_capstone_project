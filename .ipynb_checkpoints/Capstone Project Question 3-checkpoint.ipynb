{
 "cells": [
  {
   "cell_type": "markdown",
   "metadata": {},
   "source": [
    "#Capstone project question 3"
   ]
  },
  {
   "cell_type": "markdown",
   "metadata": {},
   "source": [
    "3) After PCA, how many dimensions are necessary to account for at least 95% of the variance within the data?"
   ]
  },
  {
   "cell_type": "code",
   "execution_count": 6,
   "metadata": {},
   "outputs": [
    {
     "data": {
      "text/plain": [
       "PCA(n_components=5)"
      ]
     },
     "execution_count": 6,
     "metadata": {},
     "output_type": "execute_result"
    }
   ],
   "source": [
    "from sklearn.decomposition import PCA # sklearn == scikit-learn package name\n",
    "import pandas as pd # pandas\n",
    "import numpy as np\n",
    "from sklearn.preprocessing import StandardScaler\n",
    "\n",
    "#read in the data\n",
    "whole_dataset = 'data/ds_whole.csv'\n",
    "df = pd.read_csv(whole_dataset)\n",
    "\n",
    "#subset to (roughly) continuous variables\n",
    "df_cont = df[['age', 'mean_deviation', 'pattern_standard_deviation', 'cornea_thickness', 'RNFL4.mean']]\n",
    "\n",
    "#standardize the data to be appropriate for PCA\n",
    "scaler = StandardScaler()\n",
    "scaler.fit(df_cont)\n",
    "df_cont_scaled = scaler.transform(df_cont)\n",
    "\n",
    "#Do PCA\n",
    "pca = PCA(n_components=5)\n",
    "pca.fit(df_cont_scaled)"
   ]
  },
  {
   "cell_type": "code",
   "execution_count": 7,
   "metadata": {},
   "outputs": [
    {
     "name": "stdout",
     "output_type": "stream",
     "text": [
      "The fraction of the total variance explained by each component is: [0.48221927 0.19715698 0.16999651 0.08916851 0.06145873]\n",
      "The total explained variance is : 0.9999999999999999\n"
     ]
    }
   ],
   "source": [
    "#copy-pasted from lecture10/11...\n",
    "print('The fraction of the total variance explained by each component is:', pca.explained_variance_ratio_)\n",
    "print('The total explained variance is :', np.sum(pca.explained_variance_ratio_))"
   ]
  },
  {
   "cell_type": "markdown",
   "metadata": {},
   "source": [
    "Based on the explained total variance function above, all 5 components are necessary to account for at least 95% of the variance. This is consistent with the middling correlation coefficients observed in question 2; I wouold have expected higher correlation coefficients for there to be less components necessary to explain the variance in the data."
   ]
  }
 ],
 "metadata": {
  "kernelspec": {
   "display_name": "Python 3",
   "language": "python",
   "name": "python3"
  },
  "language_info": {
   "codemirror_mode": {
    "name": "ipython",
    "version": 3
   },
   "file_extension": ".py",
   "mimetype": "text/x-python",
   "name": "python",
   "nbconvert_exporter": "python",
   "pygments_lexer": "ipython3",
   "version": "3.8.3"
  }
 },
 "nbformat": 4,
 "nbformat_minor": 4
}
